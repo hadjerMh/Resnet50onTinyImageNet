{
  "cells": [
    {
      "cell_type": "markdown",
      "source": [
        "Installations of needed dependencies\n"
      ],
      "metadata": {
        "id": "cx3-vWE0bzAz"
      }
    },
    {
      "cell_type": "code",
      "execution_count": 1,
      "metadata": {
        "colab": {
          "base_uri": "https://localhost:8080/"
        },
        "id": "XFqxUQNOtFOr",
        "outputId": "b3bf167a-57d9-4e6c-f97f-6f367a45f283"
      },
      "outputs": [
        {
          "output_type": "stream",
          "name": "stdout",
          "text": [
            "Looking in indexes: https://pypi.org/simple, https://us-python.pkg.dev/colab-wheels/public/simple/\n",
            "Requirement already satisfied: torch in /usr/local/lib/python3.10/dist-packages (2.0.0+cu118)\n",
            "Requirement already satisfied: torchvision in /usr/local/lib/python3.10/dist-packages (0.15.1+cu118)\n",
            "Requirement already satisfied: albumentations in /usr/local/lib/python3.10/dist-packages (1.2.1)\n",
            "Requirement already satisfied: jinja2 in /usr/local/lib/python3.10/dist-packages (from torch) (3.1.2)\n",
            "Requirement already satisfied: triton==2.0.0 in /usr/local/lib/python3.10/dist-packages (from torch) (2.0.0)\n",
            "Requirement already satisfied: typing-extensions in /usr/local/lib/python3.10/dist-packages (from torch) (4.5.0)\n",
            "Requirement already satisfied: networkx in /usr/local/lib/python3.10/dist-packages (from torch) (3.1)\n",
            "Requirement already satisfied: filelock in /usr/local/lib/python3.10/dist-packages (from torch) (3.12.0)\n",
            "Requirement already satisfied: sympy in /usr/local/lib/python3.10/dist-packages (from torch) (1.11.1)\n",
            "Requirement already satisfied: cmake in /usr/local/lib/python3.10/dist-packages (from triton==2.0.0->torch) (3.25.2)\n",
            "Requirement already satisfied: lit in /usr/local/lib/python3.10/dist-packages (from triton==2.0.0->torch) (16.0.2)\n",
            "Requirement already satisfied: numpy in /usr/local/lib/python3.10/dist-packages (from torchvision) (1.22.4)\n",
            "Requirement already satisfied: pillow!=8.3.*,>=5.3.0 in /usr/local/lib/python3.10/dist-packages (from torchvision) (8.4.0)\n",
            "Requirement already satisfied: requests in /usr/local/lib/python3.10/dist-packages (from torchvision) (2.27.1)\n",
            "Requirement already satisfied: qudida>=0.0.4 in /usr/local/lib/python3.10/dist-packages (from albumentations) (0.0.4)\n",
            "Requirement already satisfied: scikit-image>=0.16.1 in /usr/local/lib/python3.10/dist-packages (from albumentations) (0.19.3)\n",
            "Requirement already satisfied: PyYAML in /usr/local/lib/python3.10/dist-packages (from albumentations) (6.0)\n",
            "Requirement already satisfied: scipy in /usr/local/lib/python3.10/dist-packages (from albumentations) (1.10.1)\n",
            "Requirement already satisfied: opencv-python-headless>=4.1.1 in /usr/local/lib/python3.10/dist-packages (from albumentations) (4.7.0.72)\n",
            "Requirement already satisfied: scikit-learn>=0.19.1 in /usr/local/lib/python3.10/dist-packages (from qudida>=0.0.4->albumentations) (1.2.2)\n",
            "Requirement already satisfied: packaging>=20.0 in /usr/local/lib/python3.10/dist-packages (from scikit-image>=0.16.1->albumentations) (23.1)\n",
            "Requirement already satisfied: PyWavelets>=1.1.1 in /usr/local/lib/python3.10/dist-packages (from scikit-image>=0.16.1->albumentations) (1.4.1)\n",
            "Requirement already satisfied: imageio>=2.4.1 in /usr/local/lib/python3.10/dist-packages (from scikit-image>=0.16.1->albumentations) (2.25.1)\n",
            "Requirement already satisfied: tifffile>=2019.7.26 in /usr/local/lib/python3.10/dist-packages (from scikit-image>=0.16.1->albumentations) (2023.4.12)\n",
            "Requirement already satisfied: MarkupSafe>=2.0 in /usr/local/lib/python3.10/dist-packages (from jinja2->torch) (2.1.2)\n",
            "Requirement already satisfied: idna<4,>=2.5 in /usr/local/lib/python3.10/dist-packages (from requests->torchvision) (3.4)\n",
            "Requirement already satisfied: urllib3<1.27,>=1.21.1 in /usr/local/lib/python3.10/dist-packages (from requests->torchvision) (1.26.15)\n",
            "Requirement already satisfied: charset-normalizer~=2.0.0 in /usr/local/lib/python3.10/dist-packages (from requests->torchvision) (2.0.12)\n",
            "Requirement already satisfied: certifi>=2017.4.17 in /usr/local/lib/python3.10/dist-packages (from requests->torchvision) (2022.12.7)\n",
            "Requirement already satisfied: mpmath>=0.19 in /usr/local/lib/python3.10/dist-packages (from sympy->torch) (1.3.0)\n",
            "Requirement already satisfied: joblib>=1.1.1 in /usr/local/lib/python3.10/dist-packages (from scikit-learn>=0.19.1->qudida>=0.0.4->albumentations) (1.2.0)\n",
            "Requirement already satisfied: threadpoolctl>=2.0.0 in /usr/local/lib/python3.10/dist-packages (from scikit-learn>=0.19.1->qudida>=0.0.4->albumentations) (3.1.0)\n"
          ]
        }
      ],
      "source": [
        "# Installations\n",
        "!pip  install torch torchvision albumentations\n",
        "!pip install -q kaggle"
      ]
    },
    {
      "cell_type": "code",
      "execution_count": 1,
      "metadata": {
        "id": "UNOWO-z57HW3"
      },
      "outputs": [],
      "source": []
    },
    {
      "cell_type": "markdown",
      "metadata": {
        "id": "T4UcV5HqCuem"
      },
      "source": [
        "https://www.kaggle.com/settings Access here and click \" Create New TOken\"  and upload here in collab the kaggle.json  file that makes you download"
      ]
    },
    {
      "cell_type": "code",
      "execution_count": 2,
      "metadata": {
        "colab": {
          "base_uri": "https://localhost:8080/",
          "height": 90
        },
        "id": "urcY3GRU7I4E",
        "outputId": "d26ab6c4-1490-4f34-b19b-da53ae58d597"
      },
      "outputs": [
        {
          "output_type": "display_data",
          "data": {
            "text/plain": [
              "<IPython.core.display.HTML object>"
            ],
            "text/html": [
              "\n",
              "     <input type=\"file\" id=\"files-12fcb10d-e5bb-49eb-8093-f8b300d392be\" name=\"files[]\" multiple disabled\n",
              "        style=\"border:none\" />\n",
              "     <output id=\"result-12fcb10d-e5bb-49eb-8093-f8b300d392be\">\n",
              "      Upload widget is only available when the cell has been executed in the\n",
              "      current browser session. Please rerun this cell to enable.\n",
              "      </output>\n",
              "      <script>// Copyright 2017 Google LLC\n",
              "//\n",
              "// Licensed under the Apache License, Version 2.0 (the \"License\");\n",
              "// you may not use this file except in compliance with the License.\n",
              "// You may obtain a copy of the License at\n",
              "//\n",
              "//      http://www.apache.org/licenses/LICENSE-2.0\n",
              "//\n",
              "// Unless required by applicable law or agreed to in writing, software\n",
              "// distributed under the License is distributed on an \"AS IS\" BASIS,\n",
              "// WITHOUT WARRANTIES OR CONDITIONS OF ANY KIND, either express or implied.\n",
              "// See the License for the specific language governing permissions and\n",
              "// limitations under the License.\n",
              "\n",
              "/**\n",
              " * @fileoverview Helpers for google.colab Python module.\n",
              " */\n",
              "(function(scope) {\n",
              "function span(text, styleAttributes = {}) {\n",
              "  const element = document.createElement('span');\n",
              "  element.textContent = text;\n",
              "  for (const key of Object.keys(styleAttributes)) {\n",
              "    element.style[key] = styleAttributes[key];\n",
              "  }\n",
              "  return element;\n",
              "}\n",
              "\n",
              "// Max number of bytes which will be uploaded at a time.\n",
              "const MAX_PAYLOAD_SIZE = 100 * 1024;\n",
              "\n",
              "function _uploadFiles(inputId, outputId) {\n",
              "  const steps = uploadFilesStep(inputId, outputId);\n",
              "  const outputElement = document.getElementById(outputId);\n",
              "  // Cache steps on the outputElement to make it available for the next call\n",
              "  // to uploadFilesContinue from Python.\n",
              "  outputElement.steps = steps;\n",
              "\n",
              "  return _uploadFilesContinue(outputId);\n",
              "}\n",
              "\n",
              "// This is roughly an async generator (not supported in the browser yet),\n",
              "// where there are multiple asynchronous steps and the Python side is going\n",
              "// to poll for completion of each step.\n",
              "// This uses a Promise to block the python side on completion of each step,\n",
              "// then passes the result of the previous step as the input to the next step.\n",
              "function _uploadFilesContinue(outputId) {\n",
              "  const outputElement = document.getElementById(outputId);\n",
              "  const steps = outputElement.steps;\n",
              "\n",
              "  const next = steps.next(outputElement.lastPromiseValue);\n",
              "  return Promise.resolve(next.value.promise).then((value) => {\n",
              "    // Cache the last promise value to make it available to the next\n",
              "    // step of the generator.\n",
              "    outputElement.lastPromiseValue = value;\n",
              "    return next.value.response;\n",
              "  });\n",
              "}\n",
              "\n",
              "/**\n",
              " * Generator function which is called between each async step of the upload\n",
              " * process.\n",
              " * @param {string} inputId Element ID of the input file picker element.\n",
              " * @param {string} outputId Element ID of the output display.\n",
              " * @return {!Iterable<!Object>} Iterable of next steps.\n",
              " */\n",
              "function* uploadFilesStep(inputId, outputId) {\n",
              "  const inputElement = document.getElementById(inputId);\n",
              "  inputElement.disabled = false;\n",
              "\n",
              "  const outputElement = document.getElementById(outputId);\n",
              "  outputElement.innerHTML = '';\n",
              "\n",
              "  const pickedPromise = new Promise((resolve) => {\n",
              "    inputElement.addEventListener('change', (e) => {\n",
              "      resolve(e.target.files);\n",
              "    });\n",
              "  });\n",
              "\n",
              "  const cancel = document.createElement('button');\n",
              "  inputElement.parentElement.appendChild(cancel);\n",
              "  cancel.textContent = 'Cancel upload';\n",
              "  const cancelPromise = new Promise((resolve) => {\n",
              "    cancel.onclick = () => {\n",
              "      resolve(null);\n",
              "    };\n",
              "  });\n",
              "\n",
              "  // Wait for the user to pick the files.\n",
              "  const files = yield {\n",
              "    promise: Promise.race([pickedPromise, cancelPromise]),\n",
              "    response: {\n",
              "      action: 'starting',\n",
              "    }\n",
              "  };\n",
              "\n",
              "  cancel.remove();\n",
              "\n",
              "  // Disable the input element since further picks are not allowed.\n",
              "  inputElement.disabled = true;\n",
              "\n",
              "  if (!files) {\n",
              "    return {\n",
              "      response: {\n",
              "        action: 'complete',\n",
              "      }\n",
              "    };\n",
              "  }\n",
              "\n",
              "  for (const file of files) {\n",
              "    const li = document.createElement('li');\n",
              "    li.append(span(file.name, {fontWeight: 'bold'}));\n",
              "    li.append(span(\n",
              "        `(${file.type || 'n/a'}) - ${file.size} bytes, ` +\n",
              "        `last modified: ${\n",
              "            file.lastModifiedDate ? file.lastModifiedDate.toLocaleDateString() :\n",
              "                                    'n/a'} - `));\n",
              "    const percent = span('0% done');\n",
              "    li.appendChild(percent);\n",
              "\n",
              "    outputElement.appendChild(li);\n",
              "\n",
              "    const fileDataPromise = new Promise((resolve) => {\n",
              "      const reader = new FileReader();\n",
              "      reader.onload = (e) => {\n",
              "        resolve(e.target.result);\n",
              "      };\n",
              "      reader.readAsArrayBuffer(file);\n",
              "    });\n",
              "    // Wait for the data to be ready.\n",
              "    let fileData = yield {\n",
              "      promise: fileDataPromise,\n",
              "      response: {\n",
              "        action: 'continue',\n",
              "      }\n",
              "    };\n",
              "\n",
              "    // Use a chunked sending to avoid message size limits. See b/62115660.\n",
              "    let position = 0;\n",
              "    do {\n",
              "      const length = Math.min(fileData.byteLength - position, MAX_PAYLOAD_SIZE);\n",
              "      const chunk = new Uint8Array(fileData, position, length);\n",
              "      position += length;\n",
              "\n",
              "      const base64 = btoa(String.fromCharCode.apply(null, chunk));\n",
              "      yield {\n",
              "        response: {\n",
              "          action: 'append',\n",
              "          file: file.name,\n",
              "          data: base64,\n",
              "        },\n",
              "      };\n",
              "\n",
              "      let percentDone = fileData.byteLength === 0 ?\n",
              "          100 :\n",
              "          Math.round((position / fileData.byteLength) * 100);\n",
              "      percent.textContent = `${percentDone}% done`;\n",
              "\n",
              "    } while (position < fileData.byteLength);\n",
              "  }\n",
              "\n",
              "  // All done.\n",
              "  yield {\n",
              "    response: {\n",
              "      action: 'complete',\n",
              "    }\n",
              "  };\n",
              "}\n",
              "\n",
              "scope.google = scope.google || {};\n",
              "scope.google.colab = scope.google.colab || {};\n",
              "scope.google.colab._files = {\n",
              "  _uploadFiles,\n",
              "  _uploadFilesContinue,\n",
              "};\n",
              "})(self);\n",
              "</script> "
            ]
          },
          "metadata": {}
        },
        {
          "output_type": "stream",
          "name": "stdout",
          "text": [
            "Saving kaggle.json to kaggle (2).json\n"
          ]
        },
        {
          "output_type": "execute_result",
          "data": {
            "text/plain": [
              "{'kaggle.json': b'{\"username\":\"hadjermohabeddine\",\"key\":\"34cd6ea224fb3cd77a3aae4976d05ba9\"}'}"
            ]
          },
          "metadata": {},
          "execution_count": 2
        }
      ],
      "source": [
        "#Importing a Kaggle token (Kaggle.json)\n",
        "from google.colab import files\n",
        "files.upload()"
      ]
    },
    {
      "cell_type": "code",
      "execution_count": 3,
      "metadata": {
        "colab": {
          "base_uri": "https://localhost:8080/"
        },
        "id": "HTDp4w-j7Ldy",
        "outputId": "e1f0f1a5-a851-4e4d-f106-750d44bb7749"
      },
      "outputs": [
        {
          "output_type": "stream",
          "name": "stdout",
          "text": [
            "mkdir: cannot create directory ‘/root/.kaggle’: File exists\n",
            "ref                                                 title                                        size  lastUpdated          downloadCount  voteCount  usabilityRating  \n",
            "--------------------------------------------------  ------------------------------------------  -----  -------------------  -------------  ---------  ---------------  \n",
            "arnabchaki/data-science-salaries-2023               Data Science Salaries 2023  💸                25KB  2023-04-13 09:55:16           6978        173  1.0              \n",
            "salvatorerastelli/spotify-and-youtube               Spotify and Youtube                           9MB  2023-03-20 15:43:25          12098        415  1.0              \n",
            "iammustafatz/diabetes-prediction-dataset            Diabetes prediction dataset                 734KB  2023-04-08 06:11:45           3659         59  1.0              \n",
            "shawkyelgendy/furniture-price-prediction            Furniture Price Prediction                   81KB  2023-04-17 09:35:17           1091         28  1.0              \n",
            "arnabchaki/indian-restaurants-2023                  Indian Restaurants 2023 🍲                   139KB  2023-04-27 09:57:57            815         25  1.0              \n",
            "erdemtaha/cancer-data                               Cancer Data                                  49KB  2023-03-22 07:57:00           6297        123  1.0              \n",
            "desalegngeb/students-exam-scores                    Students Exam Scores: Extended Dataset      695KB  2023-04-14 00:15:38           2644         71  1.0              \n",
            "lokeshparab/amazon-products-dataset                 Amazon Products Sales Dataset 2023           80MB  2023-03-26 10:45:19           6529        141  1.0              \n",
            "cuecacuela/england-football-matches                 England Football Matches                    389KB  2023-04-25 16:08:27            542         26  1.0              \n",
            "matarrgaye/uk-consumer-trends-current-price         UK Consumer Trends: 1997 - 2022, Quarterly  293KB  2023-04-26 14:49:10            493         23  0.88235295       \n",
            "harshsingh2209/supply-chain-analysis                Supply Chain Analysis                         9KB  2023-04-22 23:32:27            550         26  1.0              \n",
            "ulrikthygepedersen/fastfood-nutrition               Fastfood Nutrition                           12KB  2023-03-21 10:02:41           5072         94  1.0              \n",
            "priyanshusethi/minecraft-piracy-dataset             Minecraft Piracy Dataset                     30KB  2023-04-20 14:14:10            370         33  1.0              \n",
            "ppb00x/credit-risk-customers                        credit_risk_customers                        18KB  2023-04-12 08:28:28           2162         51  1.0              \n",
            "evangower/premier-league-2022-2023                  Premier League 2022-2023                      7KB  2023-04-14 19:45:22           1606         38  1.0              \n",
            "arnabchaki/popular-video-games-1980-2023            Popular Video Games 1980 - 2023 🎮             1MB  2023-03-23 16:16:51           5280        138  1.0              \n",
            "dansbecker/melbourne-housing-snapshot               Melbourne Housing Snapshot                  451KB  2018-06-05 12:52:24         114265       1253  0.7058824        \n",
            "shubhammeshram579/house                             Housing price prediction                     12KB  2023-04-19 09:37:25           1313         39  1.0              \n",
            "r1chardson/the-world-university-rankings-2011-2023  THE World University Rankings 2011-2023       1MB  2023-04-03 12:43:37           3214         67  1.0              \n",
            "ashishraut64/internet-users                         Global Internet users                       163KB  2023-03-29 12:25:13           3389         77  1.0              \n"
          ]
        }
      ],
      "source": [
        "# creating a kaggle hidden directory \n",
        "!mkdir ~/.kaggle\n",
        "# moving the json imported file to the kaggle directory\n",
        "!cp kaggle.json ~/.kaggle/\n",
        "# giving the permissions to the json file\n",
        "!chmod 600 ~/.kaggle/kaggle.json\n",
        "# list all of the public datasets available on Kaggle\n",
        "!kaggle datasets list"
      ]
    },
    {
      "cell_type": "markdown",
      "source": [
        "Downloading the database imagenetmini"
      ],
      "metadata": {
        "id": "Lc7fUdPhd26v"
      }
    },
    {
      "cell_type": "code",
      "execution_count": null,
      "metadata": {
        "colab": {
          "base_uri": "https://localhost:8080/"
        },
        "id": "zYgU18ik7k_P",
        "outputId": "698e8b8c-7ac0-4d7f-e5fd-345ff54520ea"
      },
      "outputs": [
        {
          "output_type": "stream",
          "name": "stdout",
          "text": [
            "imagenetmini-1000.zip: Skipping, found more recently modified local copy (use --force to force download)\n",
            "Archive:  /content/imagenetmini-1000.zip\n",
            "replace imagenet-mini/train/n01440764/n01440764_10043.JPEG? [y]es, [n]o, [A]ll, [N]one, [r]ename: "
          ]
        }
      ],
      "source": [
        "#download\n",
        "!kaggle datasets download -d ifigotin/imagenetmini-1000\n",
        "#unzipping the dataset\n",
        "!unzip /content/imagenetmini-1000.zip"
      ]
    },
    {
      "cell_type": "markdown",
      "source": [
        "Get pretrained ResNet50 model\n"
      ],
      "metadata": {
        "id": "xEHgV-Jaeal8"
      }
    },
    {
      "cell_type": "code",
      "execution_count": null,
      "metadata": {
        "id": "Aea8MTlosbfK"
      },
      "outputs": [],
      "source": [
        "import torchvision.models as models\n",
        "\n",
        "# getting the pretrained resnet50\n",
        "model = models.resnet50(weights=models.ResNet50_Weights.DEFAULT)\n",
        "model.eval()"
      ]
    },
    {
      "cell_type": "code",
      "execution_count": null,
      "metadata": {
        "id": "pP_-Iu7FtMdh"
      },
      "outputs": [],
      "source": [
        "from PIL import Image\n",
        "import numpy as np \n",
        "import pandas as pd \n",
        "import torch\n",
        "import torchvision as tv\n",
        "import torch.nn as nn\n",
        "import torch.nn.functional as F\n",
        "import torch.optim as optims\n",
        "import torchvision.transforms as transforms\n",
        "from PIL import Image\n",
        "from albumentations.pytorch import ToTensorV2\n",
        "import torchvision.transforms as TF\n",
        "\n",
        "# Input data files are available in the read-only \"../input/\" directory\n",
        "# For example, running this (by clicking run or pressing Shift+Enter) will list all files under the input directory\n",
        "\n",
        "import os\n",
        "\n",
        "transform = TF.Compose([TF.ToTensor(), \n",
        "                        #changing randomly the brightness, the contrast and the hue\n",
        "                        transforms.ColorJitter(brightness=0.8, contrast=0.8, hue=0.5),\n",
        "                        #rendomly flipping horizontally and vertically transformations\n",
        "                        transforms.RandomHorizontalFlip(),\n",
        "                        transforms.RandomVerticalFlip(),\n",
        "                        # random rotation between -90 and 90 degrees\n",
        "                        transforms.RandomRotation((-90, 90)),\n",
        "                        # bluriness transformation\n",
        "                        transforms.GaussianBlur(21,0.1)])\n",
        "\n",
        "# function to resize image to the size (128, 128) by default\n",
        "def resize_image(src, size=(128, 128), bgc=\"white\"):\n",
        "    src.thumbnail(size, Image.ANTIALIAS)\n",
        "    new_image = Image.new(\"RGB\", size, bgc)    \n",
        "    new_image.paste(src, (int((size[0]-src.size[0]) / 2)), int((size[1] - src.size[1]) / 2))\n",
        "    return new_image\n",
        "\n",
        "\n",
        "def load(path):\n",
        "    # loading the dataset with the given transformation\n",
        "    dataset = tv.datasets.ImageFolder(root=path, transform=transform)#,transform = Transforms())\n",
        "    # deviding the size of the dataset (70% for the training and 30% for the test)\n",
        "    train_size = int(0.7 * len(dataset))\n",
        "    test_size = len(dataset) - train_size\n",
        "    # getting the training and the test dataset \n",
        "    train_set, test_set = torch.utils.data.random_split(dataset, [train_size, test_size])\n",
        "    \n",
        "    # creating the training dataloader\n",
        "    train_loader = torch.utils.data.DataLoader(\n",
        "        train_set,\n",
        "        batch_size=1,\n",
        "        num_workers=0,\n",
        "        shuffle=False\n",
        "    )\n",
        "    \n",
        "    # creating the test dataloader\n",
        "    test_loader = torch.utils.data.DataLoader(\n",
        "        test_set,\n",
        "        batch_size=1,\n",
        "        num_workers=0,\n",
        "        shuffle=False\n",
        "    )\n",
        "\n",
        "    return train_loader, test_loader\n"
      ]
    },
    {
      "cell_type": "code",
      "execution_count": null,
      "metadata": {
        "id": "Iq7Jwjs5y36J"
      },
      "outputs": [],
      "source": [
        "# loading the training data\n",
        "train_loader, test_loader = load('/content/imagenet-mini/train')\n",
        "#print(f\"train loaders: {train_loader}\")"
      ]
    },
    {
      "cell_type": "code",
      "execution_count": null,
      "metadata": {
        "id": "SVWlDedu-vzW"
      },
      "outputs": [],
      "source": [
        "#default classes of resnet50\n",
        "classes = models.ResNet50_Weights.DEFAULT.meta[\"categories\"]\n",
        "#print(\"Classes : \", classes)"
      ]
    },
    {
      "cell_type": "markdown",
      "source": [
        "Inferencing ResNet50"
      ],
      "metadata": {
        "id": "Tow-VbmDknkE"
      }
    },
    {
      "cell_type": "code",
      "execution_count": null,
      "metadata": {
        "id": "hrWk62Dt0dRX"
      },
      "outputs": [],
      "source": [
        "import matplotlib.pyplot as plt\n",
        " \n",
        "\n",
        "device = \"cuda:0\"\n",
        "model.to(device)\n",
        "\n",
        "# initiating the index to limit the traited images to 30\n",
        "idx = 0\n",
        "\n",
        "# initiating the original classes and predicted classes lists \n",
        "original_classes = []\n",
        "predicted_classes = []\n",
        "\n",
        "# inferencing the model\n",
        "for epoch, (inputs, labels) in enumerate(train_loader):\n",
        "    #print(f'Epoch {epoch+1}')  \n",
        "          \n",
        "    # Move input and label tensors to the device\n",
        "    inputs = inputs.to(device)\n",
        "    #print(\"Orig : \", labels)\n",
        "    labels = classes[labels.to(device)]\n",
        "    #print(inputs.shape)\n",
        "    # the result of the image inference\n",
        "    outputs = model(inputs.type( torch.cuda.FloatTensor ))\n",
        "    #print(\"outputs shape : \", outputs.shape)\n",
        "    outputs = outputs[0].argmax() \n",
        "    print(\"outputs  : \", outputs)\n",
        "    # ploting the figures with thers original labels and predected labels\n",
        "    plt.figure()\n",
        "    plt.title(f\"Original Class : {labels}, Predicted Class : {classes[outputs]}\")\n",
        "    img = np.transpose(inputs.detach().cpu().numpy()[0], (1, 2, 0))\n",
        "    plt.imshow(img)\n",
        "    plt.show()\n",
        "    \n",
        "    original_classes.append(labels)\n",
        "    predicted_classes.append(classes[outputs])\n",
        "    # giving a condition about the image samples that we want\n",
        "    if idx == 30: break\n",
        "    idx += 1"
      ]
    },
    {
      "cell_type": "markdown",
      "source": [
        "Metrics measures"
      ],
      "metadata": {
        "id": "1HwxQjsTnhr9"
      }
    },
    {
      "cell_type": "code",
      "execution_count": null,
      "metadata": {
        "id": "4jk5kjU0G7T8"
      },
      "outputs": [],
      "source": [
        "from sklearn.metrics import precision_score, accuracy_score, recall_score, f1_score\n",
        "\n",
        "# Printing metrics results\n",
        "print(\"PRECISION SCORE : \", precision_score(original_classes, predicted_classes, average='macro'))\n",
        "print(\"RECALL SCORE : \", recall_score(original_classes, predicted_classes, average='macro'))\n",
        "print(\"ACCURACY SCORE : \", accuracy_score(original_classes, predicted_classes))\n",
        "print(\"F1_SCORE SCORE : \", f1_score(original_classes, predicted_classes, average='macro'))"
      ]
    },
    {
      "cell_type": "markdown",
      "metadata": {
        "id": "jCssAEdnHViz"
      },
      "source": []
    }
  ],
  "metadata": {
    "accelerator": "GPU",
    "colab": {
      "provenance": []
    },
    "gpuClass": "standard",
    "kernelspec": {
      "display_name": "Python 3",
      "name": "python3"
    },
    "language_info": {
      "name": "python"
    }
  },
  "nbformat": 4,
  "nbformat_minor": 0
}